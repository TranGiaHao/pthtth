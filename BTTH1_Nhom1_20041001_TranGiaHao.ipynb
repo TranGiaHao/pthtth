{
 "cells": [
  {
   "cell_type": "markdown",
   "metadata": {},
   "source": [
    "# Họ và tên:\n",
    "# MSSV:\n",
    "# Lớp học phần - Nhóm TH:"
   ]
  },
  {
   "cell_type": "markdown",
   "metadata": {},
   "source": [
    "# 1. Hello world!"
   ]
  },
  {
   "cell_type": "code",
   "execution_count": 3,
   "metadata": {},
   "outputs": [
    {
     "name": "stdout",
     "output_type": "stream",
     "text": [
      "Hello world!\n"
     ]
    }
   ],
   "source": [
    "print(\"Hello world!\")"
   ]
  },
  {
   "cell_type": "markdown",
   "metadata": {},
   "source": [
    "# 2. Program to Add Two Numbers"
   ]
  },
  {
   "cell_type": "markdown",
   "metadata": {},
   "source": [
    "## Add Two Numbers"
   ]
  },
  {
   "cell_type": "code",
   "execution_count": 4,
   "metadata": {},
   "outputs": [
    {
     "name": "stdout",
     "output_type": "stream",
     "text": [
      "7.8\n"
     ]
    }
   ],
   "source": [
    "num1 = 1.5\n",
    "num2 = 6.3\n",
    "\n",
    "### START CODE HERE ### \n",
    "# Add two numbers\n",
    "\n",
    "sum = num1 + num2\n",
    "\n",
    "# Display the sum\n",
    "print(sum)"
   ]
  },
  {
   "cell_type": "markdown",
   "metadata": {},
   "source": [
    "##  Add Two Numbers With User Input"
   ]
  },
  {
   "cell_type": "code",
   "execution_count": 11,
   "metadata": {},
   "outputs": [
    {
     "name": "stdout",
     "output_type": "stream",
     "text": [
      "3.0\n"
     ]
    }
   ],
   "source": [
    "# Store input numbers\n",
    "num1 = float(input(\"Nhập num1: \"))\n",
    "num2 = float(input(\"Nhập num2: \"))\n",
    "\n",
    "### START CODE HERE ### \n",
    "\n",
    "# Add two numbers\n",
    "\n",
    "sum = num1 + num2\n",
    "### END CODE HERE ###\n",
    "\n",
    "# Display the sum\n",
    "print(sum)"
   ]
  },
  {
   "cell_type": "markdown",
   "metadata": {},
   "source": [
    "# 3. Program to Find the Square Root"
   ]
  },
  {
   "cell_type": "code",
   "execution_count": 12,
   "metadata": {},
   "outputs": [
    {
     "name": "stdout",
     "output_type": "stream",
     "text": [
      "Căn bậc 2 của 8.0 là: 2.8284271247461903\n"
     ]
    }
   ],
   "source": [
    "# Python Program to calculate the square root\n",
    "\n",
    "# Note: change this value for a different result\n",
    "\n",
    "import math\n",
    "# To take the input from the user\n",
    "\n",
    "num = float(input('Enter a number: '))\n",
    "ket_qua = math.sqrt(num)\n",
    "# calculate the square root \n",
    "\n",
    "\n",
    "#print the value of the square root\n",
    "print(\"Căn bậc 2 của\", num, \"là:\", ket_qua)\n"
   ]
  },
  {
   "cell_type": "markdown",
   "metadata": {},
   "source": [
    "# 4. Program to Calculate the Area of a Triangle\n",
    "s = (a+b+c)/2\n",
    "\n",
    "area = √(s(s-a)*(s-b)*(s-c))"
   ]
  },
  {
   "cell_type": "code",
   "execution_count": 2,
   "metadata": {},
   "outputs": [
    {
     "name": "stdout",
     "output_type": "stream",
     "text": [
      "The area of the triangle is 2.90\n"
     ]
    }
   ],
   "source": [
    "### START CODE HERE ### \n",
    "import math\n",
    "# take inputs from the user\n",
    "a = 4\n",
    "b = 3\n",
    "c = 2\n",
    "\n",
    "\n",
    "# calculate the semi-perimeter\n",
    "s = (a+b+c)/2\n",
    "\n",
    "# calculate the area\n",
    "area = math.sqrt(s*(s-a)*(s-b)*(s-c))\n",
    "\n",
    "### END CODE HERE ###\n",
    "\n",
    "print('The area of the triangle is %0.2f' %area)"
   ]
  },
  {
   "cell_type": "markdown",
   "metadata": {},
   "source": [
    "# 5. Program to Solve Quadratic Equation\n",
    "ax2 + bx + c = 0, where a, b and c are real numbers and a ≠ 0"
   ]
  },
  {
   "cell_type": "code",
   "execution_count": 6,
   "metadata": {},
   "outputs": [
    {
     "name": "stdout",
     "output_type": "stream",
     "text": [
      "The solution are (-1+1.4142135623730951j) and (-1-1.4142135623730951j)\n"
     ]
    }
   ],
   "source": [
    "import cmath\n",
    "\n",
    "### START CODE HERE ### \n",
    "\n",
    "# take inputs from the user\n",
    "a = int(input(\"Nhập a: \"))\n",
    "b = int(input(\"Nhập b: \"))\n",
    "c = int(input(\"Nhập c: \"))\n",
    "\n",
    "# calculate the discriminant\n",
    "d =  cmath.sqrt(b**2 - 4*a*c)\n",
    "\n",
    "# find two solutions using square root for real/complex number\n",
    "sol1 = (-b + d) / (2*a)\n",
    "sol2 = (-b - d) / (2*a)\n",
    "### END CODE HERE ###\n",
    "\n",
    "print('The solution are {0} and {1}'.format(sol1,sol2))"
   ]
  },
  {
   "cell_type": "markdown",
   "metadata": {},
   "source": [
    "# 6. Program to Swap Two Variables"
   ]
  },
  {
   "cell_type": "code",
   "execution_count": 7,
   "metadata": {},
   "outputs": [
    {
     "name": "stdout",
     "output_type": "stream",
     "text": [
      "After swapping:\n",
      "x = 3\n",
      "y = 2\n"
     ]
    }
   ],
   "source": [
    "# Take input from the user for x and y\n",
    "x = input(\"Enter the value of x: \")\n",
    "y = input(\"Enter the value of y: \")\n",
    "\n",
    "# Convert the input to integers (assuming you want to swap integers)\n",
    "x = int(x)\n",
    "y = int(y)\n",
    "\n",
    "# Create a temporary variable to store the value of x\n",
    "temp = x\n",
    "\n",
    "# Swap the values of x and y\n",
    "x = y\n",
    "y = temp\n",
    "\n",
    "# Print the swapped values\n",
    "print(\"After swapping:\")\n",
    "print(\"x =\", x)\n",
    "print(\"y =\", y)"
   ]
  },
  {
   "cell_type": "code",
   "execution_count": 8,
   "metadata": {},
   "outputs": [
    {
     "name": "stdout",
     "output_type": "stream",
     "text": [
      "Memory address of x: 2574732912976\n",
      "Memory address of y: 2574732913008\n",
      "Memory address of temp: 2574732912976\n"
     ]
    }
   ],
   "source": [
    "### START CODE HERE ### \n",
    "# writing code to get the address (in RAM) of x, y, temp through the built-in function id()\n",
    "# Take input from the user for x and y\n",
    "x = input(\"Enter the value of x: \")\n",
    "y = input(\"Enter the value of y: \")\n",
    "\n",
    "# Convert the input to integers (assuming you want to swap integers)\n",
    "x = int(x)\n",
    "y = int(y)\n",
    "\n",
    "# Create a temporary variable to store the value of x\n",
    "temp = x\n",
    "\n",
    "# Get the memory addresses of x, y, and temp using id()\n",
    "x_address = id(x)\n",
    "y_address = id(y)\n",
    "temp_address = id(temp)\n",
    "\n",
    "# Print the memory addresses\n",
    "print(\"Memory address of x:\", x_address)\n",
    "print(\"Memory address of y:\", y_address)\n",
    "print(\"Memory address of temp:\", temp_address)\n",
    "\n",
    "### END CODE HERE ###"
   ]
  },
  {
   "cell_type": "markdown",
   "metadata": {},
   "source": [
    "# 7. Program to Generate a Random Number\n",
    "https://docs.python.org/3/library/random.html"
   ]
  },
  {
   "cell_type": "code",
   "execution_count": 2,
   "metadata": {},
   "outputs": [
    {
     "name": "stdout",
     "output_type": "stream",
     "text": [
      "7\n",
      "8\n",
      "5\n",
      "0.5736785289777999\n",
      "1.9923648311096898\n"
     ]
    }
   ],
   "source": [
    "# Program to generate a random number between 0 and 9\n",
    "\n",
    "# importing the random module\n",
    "import random\n",
    "\n",
    "print(random.randint(0,9))\n",
    "\n",
    "#Uncomment to try different function in random module\n",
    "print(random.randrange(9))\n",
    "print(random.randrange(3,9))\n",
    "print(random.random())\n",
    "print(random.uniform(a,b))"
   ]
  },
  {
   "cell_type": "markdown",
   "metadata": {},
   "source": [
    "# 8. Program to Convert Kilometers to Miles\n",
    "1 km = (1/1.609344) mi = 0.62137119 mi"
   ]
  },
  {
   "cell_type": "code",
   "execution_count": 5,
   "metadata": {},
   "outputs": [
    {
     "name": "stdout",
     "output_type": "stream",
     "text": [
      "1.00 kilometers is equal to 0.62137100 miles\n"
     ]
    }
   ],
   "source": [
    "# Taking kilometers input from the user\n",
    "kilometers = float(input(\"Nhập: \"))\n",
    "\n",
    "# conversion factor\n",
    "conv_fac = 0.621371\n",
    "\n",
    "# calculate miles\n",
    "miles = kilometers * conv_fac\n",
    "print('%0.2f kilometers is equal to %0.8f miles' %(kilometers,miles))"
   ]
  },
  {
   "cell_type": "code",
   "execution_count": null,
   "metadata": {},
   "outputs": [],
   "source": [
    "### START CODE HERE ### \n",
    "# writing code to convert miles to kilometers\n",
    "\n",
    "### END CODE HERE ###"
   ]
  },
  {
   "cell_type": "markdown",
   "metadata": {},
   "source": [
    "# 9. Program to Convert Celsius To Fahrenheit\n",
    "T(°F) = T(°C) × 1.8 + 32"
   ]
  },
  {
   "cell_type": "code",
   "execution_count": 4,
   "metadata": {},
   "outputs": [
    {
     "name": "stdout",
     "output_type": "stream",
     "text": [
      "Độ Fahrenheit tương ứng là: 113.0\n"
     ]
    }
   ],
   "source": [
    "### START CODE HERE ### \n",
    "# Taking celsius input from the user\n",
    "celsius = float(input(\"Nhập độ Celsius: \"))\n",
    "\n",
    "# conversion factor\n",
    "\n",
    "celsius_to_fahrenheit = 9/5\n",
    "\n",
    "# calculate Fahrenheit\n",
    "fahrenheit = celsius * celsius_to_fahrenheit + 32\n",
    "\n",
    "# print result\n",
    "print(\"Độ Fahrenheit tương ứng là:\", fahrenheit)\n",
    "### END CODE HERE ###"
   ]
  }
 ],
 "metadata": {
  "kernelspec": {
   "display_name": "Python 3",
   "language": "python",
   "name": "python3"
  },
  "language_info": {
   "codemirror_mode": {
    "name": "ipython",
    "version": 3
   },
   "file_extension": ".py",
   "mimetype": "text/x-python",
   "name": "python",
   "nbconvert_exporter": "python",
   "pygments_lexer": "ipython3",
   "version": "3.11.4"
  }
 },
 "nbformat": 4,
 "nbformat_minor": 2
}
